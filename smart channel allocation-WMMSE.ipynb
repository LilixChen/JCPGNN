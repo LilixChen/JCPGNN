{
 "cells": [
  {
   "cell_type": "code",
   "execution_count": 1,
   "id": "436b4732",
   "metadata": {},
   "outputs": [],
   "source": [
    "import itertools\n",
    "import math\n",
    "import time\n",
    "import numpy as np  \n",
    "import function_wmmse_powercontrol as wf\n",
    "import random"
   ]
  },
  {
   "cell_type": "code",
   "execution_count": 2,
   "id": "1b832fac",
   "metadata": {},
   "outputs": [],
   "source": [
    "def create_real(num_H, dis, K,seed):\n",
    "    np.random.seed(seed)\n",
    "    CH = np.zeros([num_H, K, K]) + 1j*np.zeros([num_H, K, K])\n",
    "    pos = np.zeros([num_H,2*K,2])\n",
    "    distance = np.zeros([num_H,K,K])\n",
    "    Tx = np.arange(K)\n",
    "    Rx = np.arange(2*K)[K:]\n",
    "\n",
    "    for i in range(num_H):\n",
    "        for j in range(len(Tx)):\n",
    "            pos[i,Tx[j],:] = np.random.uniform(low=[0.0,0.0], high=[100.0, 100.0], size=(2))\n",
    "            x = pos[i,Tx[j],0]\n",
    "            y = pos[i,Tx[j],1]\n",
    "            dice = np.random.uniform(low= dis[0], high = dis[1])\n",
    "            rad = np.random.uniform(low=0.0, high= 2* np.pi)\n",
    "            pos[i,Rx[j],:] = [x+dice*np.cos(rad), y + dice*np.sin(rad)] #assume the number of transmitter and receiver are same\n",
    "\n",
    "        for j in range(K):\n",
    "            for k in range(K,2*K):\n",
    "                    d = np.linalg.norm(pos[i,j,:] - pos[i,k,:])\n",
    "\n",
    "                    L2 = np.sqrt(1/(1+d**2))\n",
    "                    distance[i,j,k-K] = d  #record the distance \n",
    "                    CH[i,j,k-K] = L2 * 1/np.sqrt(2)*(np.random.randn(1)+1j*np.random.randn(1))\n",
    "                \n",
    "    return pos, CH, distance"
   ]
  },
  {
   "cell_type": "code",
   "execution_count": 3,
   "id": "d302f466",
   "metadata": {},
   "outputs": [],
   "source": [
    "def np_sum_rate(H,p,alpha,var_noise):\n",
    "\n",
    "    K = H.shape[0]\n",
    "    p = p.reshape((K,1))                        #align\n",
    "    H_2 = np.square(H)\n",
    "    rx_power = np.multiply(H_2, p)\n",
    "    mask = np.eye(K)\n",
    "    valid_rx_power = np.sum(np.multiply(rx_power, mask), axis=1)\n",
    "\n",
    "    interference = np.sum(np.multiply(rx_power, 1 - mask), axis=0) + var_noise\n",
    "\n",
    "    rate = np.log(1 + np.divide(valid_rx_power, interference))\n",
    "\n",
    "    w_rate = np.multiply(alpha,rate)\n",
    "    sum_rate = np.sum(w_rate, axis=1)\n",
    "    return sum_rate"
   ]
  },
  {
   "cell_type": "code",
   "execution_count": 4,
   "id": "109c2108",
   "metadata": {},
   "outputs": [],
   "source": [
    "def allocate_channels(distance, available_channels):\n",
    "    k= np.shape(distance)[0]\n",
    "    \n",
    "    channels = np.zeros(k, dtype=int)\n",
    "    \n",
    "\n",
    "    for i in range(k):\n",
    "        min_dist = np.inf\n",
    "        closest_neighbor = -1\n",
    "\n",
    "        # Find the closest neighbor\n",
    "        for j in range(k):\n",
    "            #print(j)\n",
    "            if i != j and distance[j,i] < min_dist:\n",
    "\n",
    "                min_dist = distance[j,i]\n",
    "       \n",
    "                closest_neighbor = j\n",
    "\n",
    "\n",
    "        # Allocate a channel different from the closest neighbor\n",
    "        available_channel_list = list(range(available_channels))\n",
    "        available_channel_list = [x+1 for x in available_channel_list]  #\n",
    "\n",
    "        if channels[i] ==0:\n",
    "            channels[i] = np.random.choice(available_channel_list)\n",
    "        occupiedchannel = channels[i]\n",
    "        available_channel_list.remove(occupiedchannel)\n",
    "\n",
    "        if channels[closest_neighbor] == 0:     #flag\n",
    "\n",
    "            channels[closest_neighbor] = np.random.choice(available_channel_list)\n",
    "        \n",
    "\n",
    "    return channels\n"
   ]
  },
  {
   "cell_type": "code",
   "execution_count": 5,
   "id": "c41c678f",
   "metadata": {},
   "outputs": [],
   "source": [
    "def optimize_sum_rate(CH,distance):\n",
    "    channels = allocate_channels(distance[:,:], available_channels)\n",
    "    channel_1_index = np.where(channels == 1)[0].tolist()\n",
    "    channel_2_index = np.where(channels == 2)[0].tolist()\n",
    "    #channel_3_index = np.where(channels == 3)[0].tolist()\n",
    "    \n",
    "    CH1_K = len(channel_1_index)\n",
    "    CH2_K = len(channel_2_index)\n",
    "    #CH3_K = len(channel_3_index)\n",
    "    H_CH1 = np.zeros([CH1_K,CH1_K])\n",
    "    H_CH2 = np.zeros([CH2_K,CH2_K])\n",
    "    #H_CH3 = np.zeros([CH3_K,CH3_K])\n",
    "\n",
    "    \n",
    "    for i in range(CH1_K):\n",
    "        H_CH1[i,i] = CH[channel_1_index[i],channel_1_index[i]]\n",
    "        for j in range(i):\n",
    "            H_CH1[i,j] = CH[channel_1_index[i],channel_1_index[j]]\n",
    "            H_CH1[j,i] = CH[channel_1_index[j],channel_1_index[i]]\n",
    "\n",
    "    for i in range(CH2_K):\n",
    "        H_CH2[i,i] = CH[channel_2_index[i],channel_2_index[i]]\n",
    "        for j in range(i):\n",
    "            H_CH2[i,j] = CH[channel_2_index[i],channel_2_index[j]]\n",
    "            H_CH2[j,i] = CH[channel_2_index[j],channel_2_index[i]]        \n",
    "\n",
    "    Pmax = 1\n",
    "    Pini_1 = Pmax*np.ones((1,CH1_K,1))\n",
    "    Pini_2 = Pmax*np.ones((1,CH2_K,1))\n",
    "    alpha_1 = np.ones((1,CH1_K))\n",
    "    alpha_2 = np.ones((1,CH2_K))\n",
    "    Y_1 = wf.batch_WMMSE2(Pini_1,alpha_1,H_CH1,Pmax,var_noise)\n",
    "    Y_2 = wf.batch_WMMSE2(Pini_2,alpha_2,H_CH2,Pmax,var_noise)\n",
    "\n",
    "\n",
    "    sum_rate_1 = np_sum_rate(H_CH1,Y_1,alpha_1,var_noise)\n",
    "    sum_rate_2 = np_sum_rate(H_CH2,Y_2,alpha_2,var_noise)\n",
    "\n",
    "    sum_rate = sum_rate_1+sum_rate_2\n",
    "\n",
    "    return sum_rate\n",
    "    "
   ]
  },
  {
   "cell_type": "code",
   "execution_count": 6,
   "id": "a01a2399",
   "metadata": {},
   "outputs": [],
   "source": [
    "num_H = 10\n",
    "K=10\n",
    "testseed = 7\n",
    "var_noise = 0.001\n",
    "available_channels = 2"
   ]
  },
  {
   "cell_type": "code",
   "execution_count": 18,
   "id": "35862239",
   "metadata": {},
   "outputs": [
    {
     "name": "stderr",
     "output_type": "stream",
     "text": [
      "/tmp/ipykernel_268828/2221547859.py:24: DeprecationWarning: Conversion of an array with ndim > 0 to a scalar is deprecated, and will error in future. Ensure you extract a single element from your array before performing this operation. (Deprecated NumPy 1.25.)\n",
      "  CH[i,j,k-K] = L2 * 1/np.sqrt(2)*(np.random.randn(1)+1j*np.random.randn(1))\n"
     ]
    },
    {
     "name": "stdout",
     "output_type": "stream",
     "text": [
      "WMMSE time 0.17778253555297852\n"
     ]
    }
   ],
   "source": [
    "pos, CH, distance = create_real(num_H,[2,10],K,testseed)\n",
    "sum_rate = 0\n",
    "\n",
    "start = time.time()\n",
    "for i in range(num_H):\n",
    "\n",
    "\n",
    "    max_sum_rate = optimize_sum_rate(abs(CH[i,:,:]),distance[i,:,:])\n",
    "\n",
    "    sum_rate += max_sum_rate\n",
    "\n",
    "sum_rate = sum_rate/num_H\n",
    "end = time.time()\n",
    "print('WMMSE time',end-start)"
   ]
  },
  {
   "cell_type": "code",
   "execution_count": 8,
   "id": "975bc64d",
   "metadata": {},
   "outputs": [
    {
     "data": {
      "text/plain": [
       "array([21.515143])"
      ]
     },
     "execution_count": 8,
     "metadata": {},
     "output_type": "execute_result"
    }
   ],
   "source": [
    "sum_rate"
   ]
  },
  {
   "cell_type": "code",
   "execution_count": null,
   "id": "101a4be2",
   "metadata": {},
   "outputs": [],
   "source": []
  },
  {
   "cell_type": "code",
   "execution_count": 9,
   "id": "e6c720ab",
   "metadata": {},
   "outputs": [],
   "source": [
    "num_H = 100\n",
    "K=15\n",
    "testseed = 7\n",
    "var_noise = 0.001"
   ]
  },
  {
   "cell_type": "code",
   "execution_count": 19,
   "id": "afc16baf",
   "metadata": {},
   "outputs": [
    {
     "name": "stderr",
     "output_type": "stream",
     "text": [
      "/tmp/ipykernel_268828/2221547859.py:24: DeprecationWarning: Conversion of an array with ndim > 0 to a scalar is deprecated, and will error in future. Ensure you extract a single element from your array before performing this operation. (Deprecated NumPy 1.25.)\n",
      "  CH[i,j,k-K] = L2 * 1/np.sqrt(2)*(np.random.randn(1)+1j*np.random.randn(1))\n"
     ]
    },
    {
     "name": "stdout",
     "output_type": "stream",
     "text": [
      "WMMSE time 0.17776083946228027\n"
     ]
    }
   ],
   "source": [
    "pos, CH, distance = create_real(num_H,[2,10],K,testseed)\n",
    "sum_rate = 0\n",
    "\n",
    "start = time.time()\n",
    "for i in range(num_H):\n",
    "\n",
    "\n",
    "    max_sum_rate = optimize_sum_rate(abs(CH[i,:,:]),distance[i,:,:])\n",
    "\n",
    "    sum_rate += max_sum_rate\n",
    "\n",
    "sum_rate = sum_rate/num_H\n",
    "end = time.time()\n",
    "print('WMMSE time',end-start)\n"
   ]
  },
  {
   "cell_type": "code",
   "execution_count": 11,
   "id": "69b77d8e",
   "metadata": {},
   "outputs": [
    {
     "data": {
      "text/plain": [
       "array([28.1554293])"
      ]
     },
     "execution_count": 11,
     "metadata": {},
     "output_type": "execute_result"
    }
   ],
   "source": [
    "sum_rate"
   ]
  },
  {
   "cell_type": "code",
   "execution_count": null,
   "id": "44938626",
   "metadata": {},
   "outputs": [],
   "source": []
  },
  {
   "cell_type": "code",
   "execution_count": 12,
   "id": "fcf270bc",
   "metadata": {},
   "outputs": [],
   "source": [
    "num_H = 100\n",
    "K=30\n",
    "testseed = 7\n",
    "var_noise = 0.001"
   ]
  },
  {
   "cell_type": "code",
   "execution_count": 20,
   "id": "15cd3d94",
   "metadata": {},
   "outputs": [
    {
     "name": "stderr",
     "output_type": "stream",
     "text": [
      "/tmp/ipykernel_268828/2221547859.py:24: DeprecationWarning: Conversion of an array with ndim > 0 to a scalar is deprecated, and will error in future. Ensure you extract a single element from your array before performing this operation. (Deprecated NumPy 1.25.)\n",
      "  CH[i,j,k-K] = L2 * 1/np.sqrt(2)*(np.random.randn(1)+1j*np.random.randn(1))\n"
     ]
    },
    {
     "name": "stdout",
     "output_type": "stream",
     "text": [
      "WMMSE time 0.1771395206451416\n"
     ]
    }
   ],
   "source": [
    "pos, CH, distance = create_real(num_H,[2,10],K,testseed)\n",
    "sum_rate = 0\n",
    "\n",
    "start = time.time()\n",
    "for i in range(num_H):\n",
    "\n",
    "\n",
    "    max_sum_rate = optimize_sum_rate(abs(CH[i,:,:]),distance[i,:,:])\n",
    "\n",
    "    sum_rate += max_sum_rate\n",
    "\n",
    "sum_rate = sum_rate/num_H\n",
    "end = time.time()\n",
    "print('WMMSE time',end-start)"
   ]
  },
  {
   "cell_type": "code",
   "execution_count": 14,
   "id": "f3de9bed",
   "metadata": {},
   "outputs": [
    {
     "data": {
      "text/plain": [
       "array([40.28032268])"
      ]
     },
     "execution_count": 14,
     "metadata": {},
     "output_type": "execute_result"
    }
   ],
   "source": [
    "sum_rate"
   ]
  },
  {
   "cell_type": "code",
   "execution_count": null,
   "id": "a0bc6995",
   "metadata": {},
   "outputs": [],
   "source": []
  },
  {
   "cell_type": "code",
   "execution_count": 15,
   "id": "e6a66769",
   "metadata": {},
   "outputs": [],
   "source": [
    "num_H = 100\n",
    "K=50\n",
    "testseed = 7\n",
    "var_noise = 0.001"
   ]
  },
  {
   "cell_type": "code",
   "execution_count": 21,
   "id": "5dfc6950",
   "metadata": {},
   "outputs": [
    {
     "name": "stderr",
     "output_type": "stream",
     "text": [
      "/tmp/ipykernel_268828/2221547859.py:24: DeprecationWarning: Conversion of an array with ndim > 0 to a scalar is deprecated, and will error in future. Ensure you extract a single element from your array before performing this operation. (Deprecated NumPy 1.25.)\n",
      "  CH[i,j,k-K] = L2 * 1/np.sqrt(2)*(np.random.randn(1)+1j*np.random.randn(1))\n"
     ]
    },
    {
     "name": "stdout",
     "output_type": "stream",
     "text": [
      "WMMSE time 0.17719101905822754\n"
     ]
    }
   ],
   "source": [
    "pos, CH, distance = create_real(num_H,[2,10],K,testseed)\n",
    "sum_rate = 0\n",
    "\n",
    "start = time.time()\n",
    "for i in range(num_H):\n",
    "\n",
    "\n",
    "    max_sum_rate = optimize_sum_rate(abs(CH[i,:,:]),distance[i,:,:])\n",
    "\n",
    "    sum_rate += max_sum_rate\n",
    "\n",
    "sum_rate = sum_rate/num_H\n",
    "end = time.time()\n",
    "print('WMMSE time',end-start)"
   ]
  },
  {
   "cell_type": "code",
   "execution_count": 17,
   "id": "718c8b99",
   "metadata": {},
   "outputs": [
    {
     "data": {
      "text/plain": [
       "array([52.76447889])"
      ]
     },
     "execution_count": 17,
     "metadata": {},
     "output_type": "execute_result"
    }
   ],
   "source": [
    "sum_rate"
   ]
  },
  {
   "cell_type": "code",
   "execution_count": null,
   "id": "d9a201c8",
   "metadata": {},
   "outputs": [],
   "source": []
  },
  {
   "cell_type": "code",
   "execution_count": null,
   "id": "74d8c8ba",
   "metadata": {},
   "outputs": [],
   "source": []
  },
  {
   "cell_type": "code",
   "execution_count": 14,
   "id": "d26899c6",
   "metadata": {},
   "outputs": [],
   "source": [
    "num_H = 100\n",
    "K=80\n",
    "testseed = 7\n",
    "var_noise = 0.001"
   ]
  },
  {
   "cell_type": "code",
   "execution_count": 22,
   "id": "b7687777",
   "metadata": {},
   "outputs": [
    {
     "name": "stderr",
     "output_type": "stream",
     "text": [
      "/tmp/ipykernel_268828/2221547859.py:24: DeprecationWarning: Conversion of an array with ndim > 0 to a scalar is deprecated, and will error in future. Ensure you extract a single element from your array before performing this operation. (Deprecated NumPy 1.25.)\n",
      "  CH[i,j,k-K] = L2 * 1/np.sqrt(2)*(np.random.randn(1)+1j*np.random.randn(1))\n"
     ]
    },
    {
     "name": "stdout",
     "output_type": "stream",
     "text": [
      "WMMSE time 0.17717361450195312\n"
     ]
    }
   ],
   "source": [
    "pos, CH, distance = create_real(num_H,[2,10],K,testseed)\n",
    "sum_rate = 0\n",
    "\n",
    "start = time.time()\n",
    "for i in range(num_H):\n",
    "\n",
    "\n",
    "    max_sum_rate = optimize_sum_rate(abs(CH[i,:,:]),distance[i,:,:])\n",
    "\n",
    "    sum_rate += max_sum_rate\n",
    "\n",
    "sum_rate = sum_rate/num_H\n",
    "end = time.time()\n",
    "print('WMMSE time',end-start)"
   ]
  },
  {
   "cell_type": "code",
   "execution_count": 20,
   "id": "33f486d5",
   "metadata": {},
   "outputs": [
    {
     "data": {
      "text/plain": [
       "array([65.79215223])"
      ]
     },
     "execution_count": 20,
     "metadata": {},
     "output_type": "execute_result"
    }
   ],
   "source": [
    "sum_rate"
   ]
  },
  {
   "cell_type": "code",
   "execution_count": null,
   "id": "ecefaaf1",
   "metadata": {},
   "outputs": [],
   "source": []
  },
  {
   "cell_type": "code",
   "execution_count": null,
   "id": "b90bf2aa",
   "metadata": {},
   "outputs": [],
   "source": []
  },
  {
   "cell_type": "code",
   "execution_count": null,
   "id": "6d09d87b",
   "metadata": {},
   "outputs": [],
   "source": []
  }
 ],
 "metadata": {
  "kernelspec": {
   "display_name": "Python 3 (ipykernel)",
   "language": "python",
   "name": "python3"
  },
  "language_info": {
   "codemirror_mode": {
    "name": "ipython",
    "version": 3
   },
   "file_extension": ".py",
   "mimetype": "text/x-python",
   "name": "python",
   "nbconvert_exporter": "python",
   "pygments_lexer": "ipython3",
   "version": "3.10.4"
  }
 },
 "nbformat": 4,
 "nbformat_minor": 5
}
